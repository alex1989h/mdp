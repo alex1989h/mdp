{
 "cells": [
  {
   "cell_type": "code",
   "execution_count": 2,
   "metadata": {},
   "outputs": [
    {
     "name": "stderr",
     "output_type": "stream",
     "text": [
      "Using TensorFlow backend.\n"
     ]
    },
    {
     "data": {
      "text/plain": [
       "'2.1.5'"
      ]
     },
     "execution_count": 2,
     "metadata": {},
     "output_type": "execute_result"
    }
   ],
   "source": [
    "import keras\n",
    "keras.__version__"
   ]
  },
  {
   "cell_type": "markdown",
   "metadata": {},
   "source": [
    "Dieses Notebook lehnt an an ein Beispiel aus [Deep Learning with Python](https://www.manning.com/books/deep-learning-with-python?a_aid=keras&a_bid=76564dff). "
   ]
  },
  {
   "attachments": {
    "image.png": {
     "image/png": "[encoded data removed]"
    }
   },
   "cell_type": "markdown",
   "metadata": {},
   "source": [
    "# Binäre Klassifikation \n",
    "## Zweck\n",
    "![image.png](attachment:image.png)\n",
    "\n",
    "## Beispiel: Klassifikation von Filmbewertungen \n",
    "### Idee\n",
    "Im folgenden Beispiel soll anhand der Worte des Bewertungstextes vorausgesagt werden, wie ein Film bewertet wird (gut/schlecht).\n",
    "### Daten\n",
    "Die Daten für das Training und die Validation des Klassifikators, stammen aus dem IMDB-Dataset (Int. Movie Database).  \n",
    "Die Daten (50.000 reviews) werden aufgeteilt : 25.000 für das Training und 25.000 für den Test.  \n",
    "Die Daten enthalten 50% gute und 50% schlechte reviews. \n",
    "Der IMDB-Datensatz ist im Keras-Paket enthalten.\n",
    "\n",
    "---\n"
   ]
  },
  {
   "cell_type": "markdown",
   "metadata": {},
   "source": [
    "### Laden des IMDB-Datensatzes\n",
    "\n",
    "Das Argument `num_words=10000` beschränkt den Wortschatz auf die 10.000 häufigsten Worte.\n",
    "Selten gebrauchte Worte werden aus dem Datensatz entfernt.  \n",
    "\n",
    "Die Trainings- und Testdaten ('train_data', 'test_data') sind Listen von Reviews. \n",
    "Jedes Review ist wiederum eine Liste von Wortindizes, von Worten die im Review vorkommen. \n",
    "Die Bedeutung der Labels ist: 0=schlechtes review, 1=gutes review"
   ]
  },
  {
   "cell_type": "code",
   "execution_count": 3,
   "metadata": {},
   "outputs": [
    {
     "name": "stdout",
     "output_type": "stream",
     "text": [
      "Downloading data from https://s3.amazonaws.com/text-datasets/imdb.npz\n",
      "17465344/17464789 [==============================] - 1s 0us/step\n"
     ]
    }
   ],
   "source": [
    "from keras.datasets import imdb\n",
    "\n",
    "(train_data, train_labels), (test_data, test_labels) = imdb.load_data(num_words=10000)"
   ]
  },
  {
   "cell_type": "markdown",
   "metadata": {},
   "source": [
    "### Informationen zum Datensatz"
   ]
  },
  {
   "cell_type": "code",
   "execution_count": 4,
   "metadata": {},
   "outputs": [
    {
     "name": "stdout",
     "output_type": "stream",
     "text": [
      "Anzahl der Worte: 218\n",
      "Die Indizes der ersten 5 Worte sind: [1, 14, 22, 16, 43]\n"
     ]
    }
   ],
   "source": [
    "# Beispiel: Gebe Informationen zum 1. Review an.\n",
    "print('Anzahl der Worte:', len(train_data[0]))\n",
    "print('Die Indizes der ersten 5 Worte sind:', train_data[0][0:5])"
   ]
  },
  {
   "cell_type": "code",
   "execution_count": 5,
   "metadata": {},
   "outputs": [
    {
     "data": {
      "text/plain": [
       "array([1, 0, 0, 1, 0, 0, 1, 0, 1, 0])"
      ]
     },
     "execution_count": 5,
     "metadata": {},
     "output_type": "execute_result"
    }
   ],
   "source": [
    "# Beispiel: Gebe die Bewerungen der ersten 10 Reviews an:\n",
    "train_labels[0:10]"
   ]
  },
  {
   "cell_type": "markdown",
   "metadata": {},
   "source": [
    "### Rückübersetzung der Reviews"
   ]
  },
  {
   "cell_type": "code",
   "execution_count": 6,
   "metadata": {},
   "outputs": [
    {
     "name": "stdout",
     "output_type": "stream",
     "text": [
      "Downloading data from https://s3.amazonaws.com/text-datasets/imdb_word_index.json\n",
      "1646592/1641221 [==============================] - 1s 0us/step\n",
      "Der Wortindex des Wortes 'adventure' ist: 1151\n",
      "Das Wort mit dem Index 1 ist: the\n",
      "    1   the\n",
      "    2   and\n",
      "    3   a\n",
      "    4   of\n",
      "    5   to\n",
      "    6   is\n",
      "    7   br\n",
      "    8   in\n",
      "    9   it\n",
      "   10   i\n",
      "   11   this\n",
      "   12   that\n",
      "   13   was\n",
      "   14   as\n",
      "   15   for\n",
      "   16   with\n",
      "   17   movie\n",
      "   18   but\n",
      "   19   film\n"
     ]
    }
   ],
   "source": [
    "# word_index ist ein Dictionary , das Worte auf Integerwerte abbildet (Beispiel: 'the':1).\n",
    "word_index = imdb.get_word_index()\n",
    "\n",
    "# Gib den Wortindex von 'adventure' aus.\n",
    "print(\"Der Wortindex des Wortes 'adventure' ist:\", word_index['adventure'])\n",
    "\n",
    "# Erzeuge ein invertiertes Dictionary, welches Integerwerte auf Worte abbildet.\n",
    "reverse_word_index = dict([(value, key) for (key, value) in word_index.items()])\n",
    "\n",
    "# Gib den Wortindex von 'adventure' aus.\n",
    "print(\"Das Wort mit dem Index 1 ist:\", reverse_word_index[1])\n",
    "\n",
    "for i in range(1,20):\n",
    "    print(\"%5d   %s\"  %  (i, reverse_word_index[i]))"
   ]
  },
  {
   "cell_type": "code",
   "execution_count": 7,
   "metadata": {},
   "outputs": [
    {
     "data": {
      "text/plain": [
       "[8, 30, 31, 7, 4, 249, 108, 7, 4, 5974]"
      ]
     },
     "execution_count": 7,
     "metadata": {},
     "output_type": "execute_result"
    }
   ],
   "source": [
    "train_data[2][3:13]"
   ]
  },
  {
   "cell_type": "code",
   "execution_count": 8,
   "metadata": {},
   "outputs": [
    {
     "name": "stdout",
     "output_type": "stream",
     "text": [
      "    5   to\n",
      "   27   be\n",
      "   28   one\n",
      "    4   of\n",
      "    1   the\n",
      "  246   worst\n",
      "  105   films\n",
      "    4   of\n",
      "    1   the\n",
      " 5971   1990s\n"
     ]
    }
   ],
   "source": [
    "# Die Indizes haben einen Offset von 3, da die ersten 3 Indizes reserviert sind\n",
    "# für die Schlüsselworte \"padding\", \"start of sequence\", und \"unknown\".\n",
    "\n",
    "Offset     = 3\n",
    "NumOfWords = 10\n",
    "\n",
    "for i in train_data[2][Offset:Offset+NumOfWords]:\n",
    "    print(\"%5d   %s\"  %  (i-Offset, reverse_word_index[i-Offset]))"
   ]
  },
  {
   "cell_type": "markdown",
   "metadata": {},
   "source": [
    "## Aufbereitung der Daten\n",
    "\n",
    "Da nicht einfach die Wortindizes eines Reviews als Input verwendet werden können,\n",
    "muss das Review in ein Vektor fester Länge umgewandelt werden. \n",
    "\n",
    "* Ein Inputvektor ist genau ein Review. \n",
    "* Ein Inputvektor ist 10000-dimensional. \n",
    "* Jedes Feld im Inputvektor steht genau für ein Wort aus einem Dictionary mit 10000 Worten.  \n",
    "* Eine 1 bedeutet, das Wort kommt im Review vor.\n",
    "* Alle Trainingsdaten zusammen bilden eine Matrix aus 25.000 Inputvektoren der Dimension 10000."
   ]
  },
  {
   "cell_type": "markdown",
   "metadata": {},
   "source": [
    "#### Vektorisierung der Input-Daten"
   ]
  },
  {
   "cell_type": "code",
   "execution_count": 26,
   "metadata": {},
   "outputs": [],
   "source": [
    "import numpy as np\n",
    "\n",
    "def vectorize_sequences(sequences, dimension=10000):\n",
    "    # Erzeuge eine Null-Matrix der Form (Anzahl der Reviews, Dimension)\n",
    "    results = np.zeros((len(sequences), dimension))\n",
    "    for i, sequence in enumerate(sequences):\n",
    "        results[i, sequence] = 1.  # set specific indices of results[i] to 1s\n",
    "    return results\n",
    "\n",
    "\n",
    "# Vektorisierte Trainingsdaten\n",
    "x_train = vectorize_sequences(train_data)\n",
    "# Vektorisierte Testdaten\n",
    "x_test = vectorize_sequences(test_data)"
   ]
  },
  {
   "cell_type": "markdown",
   "metadata": {},
   "source": [
    "Hier die ersten 15 Einträge (Worte) des 1. Reviews ....."
   ]
  },
  {
   "cell_type": "code",
   "execution_count": 27,
   "metadata": {},
   "outputs": [
    {
     "data": {
      "text/plain": [
       "array([ 0.,  1.,  1.,  0.,  1.,  1.,  1.,  1.,  1.,  1.,  0.,  0.,  1.,\n",
       "        1.,  1.])"
      ]
     },
     "execution_count": 27,
     "metadata": {},
     "output_type": "execute_result"
    }
   ],
   "source": [
    "x_train[0,0:15]"
   ]
  },
  {
   "cell_type": "markdown",
   "metadata": {},
   "source": [
    "#### Vektorisierung der Labels"
   ]
  },
  {
   "cell_type": "code",
   "execution_count": 28,
   "metadata": {},
   "outputs": [
    {
     "name": "stdout",
     "output_type": "stream",
     "text": [
      "[1 0 0 ..., 0 1 0]\n",
      "y_train[0:5] = [ 1.  0.  0.  1.  0.  0.  1.  0.  1.  0.]\n"
     ]
    }
   ],
   "source": [
    "y_train = np.asarray(train_labels).astype('float32')\n",
    "y_test  = np.asarray(test_labels).astype('float32')\n",
    "print(train_labels)\n",
    "\n",
    "# Hier die Bewertungen der ersten 5 Reviews ...\n",
    "print('y_train[0:5] =',y_train[0:10])"
   ]
  },
  {
   "cell_type": "markdown",
   "metadata": {},
   "source": [
    "# ??? Frage\n",
    "\n",
    "Geben Sie den Inputvektor für das folgende Review an:  \n",
    "\"this movie is a film\""
   ]
  },
  {
   "cell_type": "code",
   "execution_count": 31,
   "metadata": {},
   "outputs": [
    {
     "name": "stdout",
     "output_type": "stream",
     "text": [
      "Der Wortindex des Wortes 'this' ist: 11\n",
      "Der Wortindex des Wortes 'movie' ist: 17\n",
      "Der Wortindex des Wortes 'is' ist: 6\n",
      "Der Wortindex des Wortes 'a' ist: 3\n",
      "Der Wortindex des Wortes 'film' ist: 19\n",
      "rew =  [11 17  6  3 19]\n"
     ]
    }
   ],
   "source": [
    "print(\"Der Wortindex des Wortes 'this' ist:\", word_index['this'])\n",
    "# Gib den Wortindex von 'adventure' aus.\n",
    "print(\"Der Wortindex des Wortes 'movie' ist:\", word_index['movie'])\n",
    "# Gib den Wortindex von 'adventure' aus.\n",
    "print(\"Der Wortindex des Wortes 'is' ist:\", word_index['is'])\n",
    "# Gib den Wortindex von 'adventure' aus.\n",
    "print(\"Der Wortindex des Wortes 'a' ist:\", word_index['a'])\n",
    "# Gib den Wortindex von 'adventure' aus.\n",
    "print(\"Der Wortindex des Wortes 'film' ist:\", word_index['film'])\n",
    "\n",
    "rew = np.zeros((1,5), dtype=int)\n",
    "# Gib den Wortindex von 'adventure' aus.\n",
    "rew[0,0] = word_index['this']\n",
    "rew[0,1] = word_index['movie']\n",
    "rew[0,2] = word_index['is']\n",
    "rew[0,3] = word_index['a']\n",
    "rew[0,4] = word_index['film']\n",
    "print('rew = ',rew[0])"
   ]
  },
  {
   "cell_type": "code",
   "execution_count": 32,
   "metadata": {},
   "outputs": [
    {
     "data": {
      "text/plain": [
       "array([ 0.,  0.,  0.,  1.,  0.,  0.,  1.,  0.,  0.,  0.,  0.,  1.,  0.,\n",
       "        0.,  0.,  0.,  0.,  1.,  0.,  1.])"
      ]
     },
     "execution_count": 32,
     "metadata": {},
     "output_type": "execute_result"
    }
   ],
   "source": [
    "x_rew = vectorize_sequences(rew)\n",
    "x_rew[0,0:20]"
   ]
  },
  {
   "cell_type": "markdown",
   "metadata": {},
   "source": [
    "## Erstellen des Netzwerks\n",
    "\n",
    "Wir starten mit folgendem Netzwerk .....\n",
    "\n",
    "* 3 hidden Layer\n",
    "* Neuronenzahl der hidden Layer:           64   - 32   - 16\n",
    "* Aktivierungsfunktionen der hidden Layer: relu - relu - sigmoid"
   ]
  },
  {
   "cell_type": "code",
   "execution_count": 34,
   "metadata": {},
   "outputs": [],
   "source": [
    "from keras import models\n",
    "from keras import layers\n",
    "\n",
    "model = models.Sequential()\n",
    "\n",
    "model.add(layers.Dense(units=64, activation ='relu', input_shape=(10000,)))\n",
    "#model.add(layers.Dropout(0.5))\n",
    "\n",
    "model.add(layers.Dense(units=32, activation ='relu'))\n",
    "#model.add(layers.Dropout(0.5))\n",
    "\n",
    "model.add(layers.Dense(units=16, activation ='relu'))\n",
    "#model.add(layers.Dropout(0.5))\n",
    "\n",
    "model.add(layers.Dense(units=1, activation  ='sigmoid'))"
   ]
  },
  {
   "cell_type": "markdown",
   "metadata": {},
   "source": [
    "# ??? Frage\n",
    "\n",
    "Berechnen Sie die Anzahl der zu trainierenden Parameter."
   ]
  },
  {
   "cell_type": "code",
   "execution_count": 35,
   "metadata": {},
   "outputs": [
    {
     "name": "stdout",
     "output_type": "stream",
     "text": [
      "642689\n"
     ]
    }
   ],
   "source": [
    "input_anzahl = 10000 * 64 + 64    # input_shape mal Neuronen vom 1ten Layer plus Neuronen vom 1tes Layer\n",
    "param_anzahl = 64 * 32 + 32       # Neuronen vom erten Layer mal Neuronen vom 2ten Layer plus Neuronen vom zweiten Layer\n",
    "param_anzahl2 = 32 * 16 + 16      # Neuronen vom 2ten Layer mal Neuronen vom 3ten Layer plus Neuronen vom 3ten Layer\n",
    "param_anzahl3 = 16 * 1 + 1        # Neuronen vom 3ten Layer mal Neuronen vom output Layer plus Neuronen vom output Layer\n",
    "param_anzahl_gesamt = input_anzahl + param_anzahl + param_anzahl2 + param_anzahl3\n",
    "print(param_anzahl_gesamt)"
   ]
  },
  {
   "cell_type": "markdown",
   "metadata": {},
   "source": [
    "### Typisch für binäre Klassifikatoren ist : \n",
    "* **sigmoid** Aktivierungsfunktion im Outputlayer\n",
    "* Kostenfunktion:  **binary_crossentropy **"
   ]
  },
  {
   "cell_type": "code",
   "execution_count": 36,
   "metadata": {},
   "outputs": [],
   "source": [
    "model.compile(optimizer = 'rmsprop',                # rmsprop, adam\n",
    "              loss      = 'binary_crossentropy',    # mse, binary_crossentropy\n",
    "              metrics   = ['accuracy'])"
   ]
  },
  {
   "cell_type": "markdown",
   "metadata": {},
   "source": [
    "## Training und Validierung Neuronalen Netzes \n"
   ]
  },
  {
   "cell_type": "code",
   "execution_count": 37,
   "metadata": {},
   "outputs": [
    {
     "name": "stdout",
     "output_type": "stream",
     "text": [
      "Train on 25000 samples, validate on 25000 samples\n",
      "Epoch 1/20\n",
      "25000/25000 [==============================] - 8s 317us/step - loss: 0.3437 - acc: 0.8530 - val_loss: 0.2868 - val_acc: 0.8820\n",
      "Epoch 2/20\n",
      "25000/25000 [==============================] - 4s 164us/step - loss: 0.2014 - acc: 0.9211 - val_loss: 0.3250 - val_acc: 0.8746\n",
      "Epoch 3/20\n",
      "25000/25000 [==============================] - 4s 163us/step - loss: 0.1461 - acc: 0.9450 - val_loss: 0.3617 - val_acc: 0.8731\n",
      "Epoch 4/20\n",
      "25000/25000 [==============================] - 4s 148us/step - loss: 0.0967 - acc: 0.9646 - val_loss: 0.4674 - val_acc: 0.8689\n",
      "Epoch 5/20\n",
      "25000/25000 [==============================] - 4s 147us/step - loss: 0.0582 - acc: 0.9812 - val_loss: 0.5905 - val_acc: 0.8681\n",
      "Epoch 6/20\n",
      "25000/25000 [==============================] - 4s 156us/step - loss: 0.0351 - acc: 0.9911 - val_loss: 0.7118 - val_acc: 0.8644\n",
      "Epoch 7/20\n",
      "25000/25000 [==============================] - 4s 161us/step - loss: 0.0221 - acc: 0.9952 - val_loss: 0.8363 - val_acc: 0.8642\n",
      "Epoch 8/20\n",
      "25000/25000 [==============================] - 4s 173us/step - loss: 0.0125 - acc: 0.9974 - val_loss: 0.9820 - val_acc: 0.8551\n",
      "Epoch 9/20\n",
      "25000/25000 [==============================] - 4s 151us/step - loss: 0.0094 - acc: 0.9980 - val_loss: 1.0609 - val_acc: 0.8613\n",
      "Epoch 10/20\n",
      "25000/25000 [==============================] - 4s 158us/step - loss: 0.0074 - acc: 0.9982 - val_loss: 1.0693 - val_acc: 0.8598\n",
      "Epoch 11/20\n",
      "25000/25000 [==============================] - 4s 173us/step - loss: 0.0063 - acc: 0.9986 - val_loss: 1.1341 - val_acc: 0.8596\n",
      "Epoch 12/20\n",
      "25000/25000 [==============================] - 4s 149us/step - loss: 0.0084 - acc: 0.9987 - val_loss: 1.1799 - val_acc: 0.8591\n",
      "Epoch 13/20\n",
      "25000/25000 [==============================] - 5s 183us/step - loss: 0.0039 - acc: 0.9994 - val_loss: 1.2089 - val_acc: 0.8595\n",
      "Epoch 14/20\n",
      "25000/25000 [==============================] - 4s 165us/step - loss: 0.0038 - acc: 0.9992 - val_loss: 1.2777 - val_acc: 0.8609\n",
      "Epoch 15/20\n",
      "25000/25000 [==============================] - 5s 185us/step - loss: 0.0043 - acc: 0.9993 - val_loss: 1.3229 - val_acc: 0.8576\n",
      "Epoch 16/20\n",
      "25000/25000 [==============================] - 4s 166us/step - loss: 8.3380e-04 - acc: 0.9998 - val_loss: 1.3653 - val_acc: 0.8596\n",
      "Epoch 17/20\n",
      "25000/25000 [==============================] - 4s 165us/step - loss: 0.0039 - acc: 0.9994 - val_loss: 1.4036 - val_acc: 0.8544\n",
      "Epoch 18/20\n",
      "25000/25000 [==============================] - 4s 171us/step - loss: 3.9068e-04 - acc: 0.9999 - val_loss: 1.4094 - val_acc: 0.8579\n",
      "Epoch 19/20\n",
      "25000/25000 [==============================] - 4s 156us/step - loss: 0.0018 - acc: 0.9997 - val_loss: 1.4705 - val_acc: 0.8522\n",
      "Epoch 20/20\n",
      "25000/25000 [==============================] - 4s 152us/step - loss: 0.0066 - acc: 0.9990 - val_loss: 1.3656 - val_acc: 0.8576\n"
     ]
    }
   ],
   "source": [
    "history = model.fit(x_train,\n",
    "                    y_train,\n",
    "                    epochs          = 20,\n",
    "                    batch_size      = 128,\n",
    "                    validation_data = (x_test, y_test))"
   ]
  },
  {
   "cell_type": "code",
   "execution_count": 38,
   "metadata": {},
   "outputs": [
    {
     "data": {
      "text/plain": [
       "dict_keys(['val_loss', 'val_acc', 'loss', 'acc'])"
      ]
     },
     "execution_count": 38,
     "metadata": {},
     "output_type": "execute_result"
    }
   ],
   "source": [
    "history_dict = history.history\n",
    "history_dict.keys()"
   ]
  },
  {
   "cell_type": "markdown",
   "metadata": {},
   "source": [
    "#### Ausgegeben werden der Loss und die Accuracy der Trainings- und Testdaten"
   ]
  },
  {
   "cell_type": "code",
   "execution_count": 41,
   "metadata": {},
   "outputs": [
    {
     "data": {
      "image/png": "[encoded data removed]",
      "text/plain": [
       "<matplotlib.figure.Figure at 0x7fa3496a4860>"
      ]
     },
     "metadata": {},
     "output_type": "display_data"
    }
   ],
   "source": [
    "import matplotlib.pyplot as plt\n",
    "\n",
    "acc      = history.history['acc']\n",
    "val_acc  = history.history['val_acc']\n",
    "loss     = history.history['loss']\n",
    "val_loss = history.history['val_loss']\n",
    "\n",
    "epochs = range(1, len(acc) + 1)\n",
    "\n",
    "\n",
    "plt.plot(epochs, loss,     'r', label='Training loss')\n",
    "plt.plot(epochs, val_loss, 'b', label='Validation loss')\n",
    "plt.title('Trainings- und Validation-Loss')\n",
    "plt.xlabel('Epochen')\n",
    "plt.ylabel('Loss')\n",
    "plt.legend()\n",
    "\n",
    "plt.show()"
   ]
  },
  {
   "cell_type": "code",
   "execution_count": 42,
   "metadata": {},
   "outputs": [
    {
     "data": {
      "image/png": "[encoded data removed]",
      "text/plain": [
       "<matplotlib.figure.Figure at 0x7fa3b63db550>"
      ]
     },
     "metadata": {},
     "output_type": "display_data"
    }
   ],
   "source": [
    "plt.clf()   # clear figure\n",
    "acc_values     = history_dict['acc']\n",
    "val_acc_values = history_dict['val_acc']\n",
    "\n",
    "plt.plot(epochs, acc,     'r', label='Training acc')\n",
    "plt.plot(epochs, val_acc, 'b', label='Validation acc')\n",
    "plt.title('Trainings- und Validation-Accuracy')\n",
    "plt.xlabel('Epochen')\n",
    "plt.ylabel('Loss')\n",
    "plt.legend()\n",
    "\n",
    "plt.show()"
   ]
  },
  {
   "cell_type": "markdown",
   "metadata": {},
   "source": [
    "## Klassifikation neuer Daten\n",
    "\n",
    "Neue Daten (Reviews) können mit der predict-Methode klassifiziert werden."
   ]
  },
  {
   "cell_type": "code",
   "execution_count": 43,
   "metadata": {},
   "outputs": [
    {
     "data": {
      "text/plain": [
       "array([[  2.76216697e-02],\n",
       "       [  1.00000000e+00],\n",
       "       [  1.00000000e+00],\n",
       "       [  1.00000000e+00],\n",
       "       [  1.00000000e+00],\n",
       "       [  9.99991417e-01],\n",
       "       [  1.00000000e+00],\n",
       "       [  7.92640264e-20],\n",
       "       [  1.00000000e+00],\n",
       "       [  1.00000000e+00]], dtype=float32)"
      ]
     },
     "execution_count": 43,
     "metadata": {},
     "output_type": "execute_result"
    }
   ],
   "source": [
    "# model.predict(x_train[0:5]).T.astype(int)\n",
    "model.predict(x_test[0:10])"
   ]
  },
  {
   "cell_type": "markdown",
   "metadata": {},
   "source": [
    "# ??? Fragen\n",
    "\n",
    "* Zeigt das NN beim Training die Tendenz zum Overfitting?\n",
    "    * Loss der Trainingsdaten wird kleiner und der Loss der Testdaten nimmt zu, was ein Indiz für Overfitting ist\n",
    "* Woran erkennt man das?\n",
    "    * An dem Graphen der Loss-Daten\n",
    "* Welche Maßnahmen gibt es zur Verbesserung des Overfitting?\n",
    "    * Zahl der Neuronen verkleinern, Netz vereinfachen\n",
    "    * Early stopping\n",
    "    * Regularisierung (z.B. weight decay\n",
    "    * Drop out Layer\n",
    "\n"
   ]
  },
  {
   "cell_type": "markdown",
   "metadata": {},
   "source": [
    "# !!! Aufgaben\n",
    "\n",
    "### a) Trainieren Sie folgende Varianten des vorgegebenen Neuronalen Netzes:\n",
    "\n",
    "1. Nur 2 hidden Layer (mit 16/16 Neuronen)\n",
    "2. Andere Loss-Funktion: \"mse\" statt \"binary_crossentropy\"\n",
    "3. tanh-Aktivierungsfunktion in den hidden Layern\n",
    "4. Andere Trainingsstrategie als 'rmsprop' : 'adam'\n",
    "5. Dropout\n",
    "6. Erstellen Sie einen besonders guten Klassifikator !\n",
    "\n",
    "### b)  Dokumentieren Sie die Ergebnisse \n",
    "* Endergebnis\n",
    "* graph. Traingsverläufe\n",
    "* Kommentar (gibt es Overfitting, was ist besser)\n",
    "\n",
    "\n"
   ]
  },
  {
   "cell_type": "code",
   "execution_count": 46,
   "metadata": {},
   "outputs": [],
   "source": [
    "from keras import models\n",
    "from keras import layers\n",
    "\n",
    "model = models.Sequential()\n",
    "\n",
    "model.add(layers.Dense(units=16, activation ='tanh', input_shape=(10000,)))\n",
    "model.add(layers.Dropout(0.5))\n",
    "\n",
    "model.add(layers.Dense(units=16, activation ='tanh'))\n",
    "model.add(layers.Dropout(0.5))\n",
    "\n",
    "model.add(layers.Dense(units=1, activation  ='sigmoid'))"
   ]
  },
  {
   "cell_type": "code",
   "execution_count": 47,
   "metadata": {},
   "outputs": [],
   "source": [
    "model.compile(optimizer = 'adam',                # rmsprop, adam\n",
    "              loss      = 'mse',    # mse, binary_crossentropy\n",
    "              metrics   = ['accuracy'])"
   ]
  },
  {
   "cell_type": "code",
   "execution_count": 48,
   "metadata": {},
   "outputs": [
    {
     "name": "stdout",
     "output_type": "stream",
     "text": [
      "Train on 25000 samples, validate on 25000 samples\n",
      "Epoch 1/20\n",
      "25000/25000 [==============================] - 4s 157us/step - loss: 0.1325 - acc: 0.8220 - val_loss: 0.0845 - val_acc: 0.8862\n",
      "Epoch 2/20\n",
      "25000/25000 [==============================] - 4s 144us/step - loss: 0.0712 - acc: 0.9124 - val_loss: 0.0883 - val_acc: 0.8822\n",
      "Epoch 3/20\n",
      "25000/25000 [==============================] - 4s 144us/step - loss: 0.0585 - acc: 0.9282 - val_loss: 0.0943 - val_acc: 0.8788\n",
      "Epoch 4/20\n",
      "25000/25000 [==============================] - 4s 165us/step - loss: 0.0511 - acc: 0.9370 - val_loss: 0.0989 - val_acc: 0.8756\n",
      "Epoch 5/20\n",
      "25000/25000 [==============================] - 4s 178us/step - loss: 0.0449 - acc: 0.9462 - val_loss: 0.1019 - val_acc: 0.8749\n",
      "Epoch 6/20\n",
      "25000/25000 [==============================] - 3s 135us/step - loss: 0.0405 - acc: 0.9521 - val_loss: 0.1051 - val_acc: 0.8732\n",
      "Epoch 7/20\n",
      "25000/25000 [==============================] - 3s 136us/step - loss: 0.0384 - acc: 0.9545 - val_loss: 0.1095 - val_acc: 0.8700\n",
      "Epoch 8/20\n",
      "25000/25000 [==============================] - 3s 131us/step - loss: 0.0356 - acc: 0.9580 - val_loss: 0.1113 - val_acc: 0.8688\n",
      "Epoch 9/20\n",
      "25000/25000 [==============================] - 3s 132us/step - loss: 0.0343 - acc: 0.9601 - val_loss: 0.1132 - val_acc: 0.8685\n",
      "Epoch 10/20\n",
      "25000/25000 [==============================] - 3s 133us/step - loss: 0.0326 - acc: 0.9624 - val_loss: 0.1159 - val_acc: 0.8656\n",
      "Epoch 11/20\n",
      "25000/25000 [==============================] - 3s 132us/step - loss: 0.0306 - acc: 0.9644 - val_loss: 0.1155 - val_acc: 0.8674\n",
      "Epoch 12/20\n",
      "25000/25000 [==============================] - 3s 131us/step - loss: 0.0294 - acc: 0.9660 - val_loss: 0.1184 - val_acc: 0.8646\n",
      "Epoch 13/20\n",
      "25000/25000 [==============================] - 3s 131us/step - loss: 0.0288 - acc: 0.9674 - val_loss: 0.1180 - val_acc: 0.8670\n",
      "Epoch 14/20\n",
      "25000/25000 [==============================] - 3s 133us/step - loss: 0.0280 - acc: 0.9674 - val_loss: 0.1196 - val_acc: 0.8661\n",
      "Epoch 15/20\n",
      "25000/25000 [==============================] - 4s 152us/step - loss: 0.0260 - acc: 0.9704 - val_loss: 0.1221 - val_acc: 0.8637\n",
      "Epoch 16/20\n",
      "25000/25000 [==============================] - 3s 137us/step - loss: 0.0264 - acc: 0.9704 - val_loss: 0.1216 - val_acc: 0.8645\n",
      "Epoch 17/20\n",
      "25000/25000 [==============================] - 3s 132us/step - loss: 0.0263 - acc: 0.9698 - val_loss: 0.1223 - val_acc: 0.8631\n",
      "Epoch 18/20\n",
      "25000/25000 [==============================] - 3s 131us/step - loss: 0.0244 - acc: 0.9724 - val_loss: 0.1230 - val_acc: 0.8640\n",
      "Epoch 19/20\n",
      "25000/25000 [==============================] - 3s 131us/step - loss: 0.0234 - acc: 0.9736 - val_loss: 0.1249 - val_acc: 0.8608\n",
      "Epoch 20/20\n",
      "25000/25000 [==============================] - 3s 132us/step - loss: 0.0237 - acc: 0.9735 - val_loss: 0.1262 - val_acc: 0.8604\n"
     ]
    }
   ],
   "source": [
    "history = model.fit(x_train,\n",
    "                    y_train,\n",
    "                    epochs          = 20,\n",
    "                    batch_size      = 128,\n",
    "                    validation_data = (x_test, y_test))"
   ]
  },
  {
   "cell_type": "code",
   "execution_count": 49,
   "metadata": {},
   "outputs": [
    {
     "data": {
      "image/png": "[encoded data removed]",
      "text/plain": [
       "<matplotlib.figure.Figure at 0x7fa3452b2cc0>"
      ]
     },
     "metadata": {},
     "output_type": "display_data"
    }
   ],
   "source": [
    "import matplotlib.pyplot as plt\n",
    "\n",
    "acc      = history.history['acc']\n",
    "val_acc  = history.history['val_acc']\n",
    "loss     = history.history['loss']\n",
    "val_loss = history.history['val_loss']\n",
    "\n",
    "epochs = range(1, len(acc) + 1)\n",
    "\n",
    "\n",
    "plt.plot(epochs, loss,     'r', label='Training loss')\n",
    "plt.plot(epochs, val_loss, 'b', label='Validation loss')\n",
    "plt.title('Trainings- und Validation-Loss')\n",
    "plt.xlabel('Epochen')\n",
    "plt.ylabel('Loss')\n",
    "plt.legend()\n",
    "\n",
    "plt.show()"
   ]
  },
  {
   "cell_type": "code",
   "execution_count": 50,
   "metadata": {},
   "outputs": [
    {
     "data": {
      "image/png": "[encoded data removed]",
      "text/plain": [
       "<matplotlib.figure.Figure at 0x7fa3452b28d0>"
      ]
     },
     "metadata": {},
     "output_type": "display_data"
    }
   ],
   "source": [
    "plt.clf()   # clear figure\n",
    "acc_values     = history_dict['acc']\n",
    "val_acc_values = history_dict['val_acc']\n",
    "\n",
    "plt.plot(epochs, acc,     'r', label='Training acc')\n",
    "plt.plot(epochs, val_acc, 'b', label='Validation acc')\n",
    "plt.title('Trainings- und Validation-Accuracy')\n",
    "plt.xlabel('Epochen')\n",
    "plt.ylabel('Loss')\n",
    "plt.legend()\n",
    "\n",
    "plt.show()"
   ]
  },
  {
   "cell_type": "code",
   "execution_count": null,
   "metadata": {},
   "outputs": [],
   "source": []
  }
 ],
 "metadata": {
  "kernelspec": {
   "display_name": "Python 3",
   "language": "python",
   "name": "python3"
  },
  "language_info": {
   "codemirror_mode": {
    "name": "ipython",
    "version": 3
   },
   "file_extension": ".py",
   "mimetype": "text/x-python",
   "name": "python",
   "nbconvert_exporter": "python",
   "pygments_lexer": "ipython3",
   "version": "3.6.5"
  }
 },
 "nbformat": 4,
 "nbformat_minor": 2
}
